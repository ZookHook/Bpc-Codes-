{
  "nbformat": 4,
  "nbformat_minor": 0,
  "metadata": {
    "colab": {
      "provenance": [],
      "mount_file_id": "17d0Xx7qS3QmH1vJOhkdheZcWdDOXUvx4",
      "authorship_tag": "ABX9TyNjD/oRt7YLLQYtButAae3U",
      "include_colab_link": true
    },
    "kernelspec": {
      "name": "python3",
      "display_name": "Python 3"
    },
    "language_info": {
      "name": "python"
    }
  },
  "cells": [
    {
      "cell_type": "markdown",
      "metadata": {
        "id": "view-in-github",
        "colab_type": "text"
      },
      "source": [
        "<a href=\"https://colab.research.google.com/github/Eternalnik001/Bpc-Codes-/blob/main/NLP.ipynb\" target=\"_parent\"><img src=\"https://colab.research.google.com/assets/colab-badge.svg\" alt=\"Open In Colab\"/></a>"
      ]
    },
    {
      "cell_type": "code",
      "execution_count": 1,
      "metadata": {
        "colab": {
          "base_uri": "https://localhost:8080/"
        },
        "id": "1MdSuNAQU96G",
        "outputId": "cd9db3c5-7ce9-4b9f-e0b1-fb7c466419e5"
      },
      "outputs": [
        {
          "output_type": "stream",
          "name": "stdout",
          "text": [
            "Requirement already satisfied: nltk in /usr/local/lib/python3.10/dist-packages (3.8.1)\n",
            "Requirement already satisfied: click in /usr/local/lib/python3.10/dist-packages (from nltk) (8.1.7)\n",
            "Requirement already satisfied: joblib in /usr/local/lib/python3.10/dist-packages (from nltk) (1.4.2)\n",
            "Requirement already satisfied: regex>=2021.8.3 in /usr/local/lib/python3.10/dist-packages (from nltk) (2024.5.15)\n",
            "Requirement already satisfied: tqdm in /usr/local/lib/python3.10/dist-packages (from nltk) (4.66.5)\n"
          ]
        }
      ],
      "source": [
        "pip install nltk"
      ]
    },
    {
      "cell_type": "markdown",
      "source": [
        "triple quots is used for more readable and maintainable code when working with long or complex strings."
      ],
      "metadata": {
        "id": "NPhdDcocWixM"
      }
    },
    {
      "cell_type": "code",
      "source": [
        "para = \"\"\" Steven Paul Jobs (February 24, 1955 – October 5, 2011) was an American businessman, inventor, and investor best known for co-founding the technology company Apple Inc. Jobs was also the founder of NeXT and chairman and majority shareholder of Pixar. He was a pioneer of the personal computer revolution of the 1970s and 1980s, along with his early business partner and fellow Apple co-founder Steve Wozniak.\n",
        "\n",
        "Jobs was born in San Francisco in 1955 and adopted shortly afterwards. He attended Reed College in 1972 before withdrawing that same year. In 1974, he traveled through India, seeking enlightenment before later studying Zen Buddhism. He and Wozniak co-founded Apple in 1976 to further develop and sell Wozniak's Apple I personal computer. Together, the duo gained fame and wealth a year later with production and sale of the Apple II, one of the first highly successful mass-produced microcomputers.\n",
        "\n",
        "Jobs saw the commercial potential of the Xerox Alto in 1979, which was mouse-driven and had a graphical user interface (GUI). This led to the development of the unsuccessful Apple Lisa in 1983, followed by the breakthrough Macintosh in 1984, the first mass-produced computer with a GUI. The Macintosh launched the desktop publishing industry in 1985 (for example, the Aldus Pagemaker) with the addition of the Apple LaserWriter, the first laser printer to feature vector graphics and PostScript.\n",
        "\n",
        "In 1985, Jobs departed Apple after a long power struggle with the company's board and its then-CEO, John Sculley. That same year, Jobs took some Apple employees with him to found NeXT, a computer platform development company that specialized in computers for higher-education and business markets, serving as its CEO. In 1986, he helped develop the visual effects industry by funding the computer graphics division of Lucasfilm that eventually spun off independently as Pixar, which produced the first 3D computer-animated feature film Toy Story (1995) and became a leading animation studio, producing 28 films since.\n",
        "\n",
        "In 1997, Jobs returned to Apple as CEO after the company's acquisition of NeXT. He was largely responsible for reviving Apple, which was on the verge of bankruptcy. He worked closely with British designer Jony Ive to develop a line of products and services that had larger cultural ramifications, beginning with the \"Think different\" advertising campaign, and leading to the iMac, iTunes, Mac OS X, Apple Store, iPod, iTunes Store, iPhone, App Store, and iPad. Jobs was also a board member at Gap Inc. from 1999 to 2002.[3] In 2003, Jobs was diagnosed with a pancreatic neuroendocrine tumor. He died of tumor-related respiratory arrest in 2011; in 2022, he was posthumously awarded the Presidential Medal of Freedom. Since his death, he has won 141 patents; Jobs holds over 450 patents in total.[4]\"\"\""
      ],
      "metadata": {
        "id": "D_fWkpreVP2X"
      },
      "execution_count": 2,
      "outputs": []
    },
    {
      "cell_type": "code",
      "source": [
        "#nltk liberies for tokenization and steming\n",
        "\n",
        "import nltk\n",
        "from nltk.stem import PorterStemmer\n",
        "from nltk.corpus import stopwords"
      ],
      "metadata": {
        "id": "pCX8V74EVPo-"
      },
      "execution_count": 3,
      "outputs": []
    },
    {
      "cell_type": "code",
      "source": [
        "nltk.download('punkt')"
      ],
      "metadata": {
        "colab": {
          "base_uri": "https://localhost:8080/"
        },
        "id": "4TbCaBjgXMoO",
        "outputId": "82a2ef3f-dedf-48dd-f815-520b3e371a8b"
      },
      "execution_count": 4,
      "outputs": [
        {
          "output_type": "stream",
          "name": "stderr",
          "text": [
            "[nltk_data] Downloading package punkt to /root/nltk_data...\n",
            "[nltk_data]   Unzipping tokenizers/punkt.zip.\n"
          ]
        },
        {
          "output_type": "execute_result",
          "data": {
            "text/plain": [
              "True"
            ]
          },
          "metadata": {},
          "execution_count": 4
        }
      ]
    },
    {
      "cell_type": "code",
      "source": [
        "sentence = nltk.sent_tokenize(para)"
      ],
      "metadata": {
        "id": "jWgvNSKzXMlz"
      },
      "execution_count": 5,
      "outputs": []
    },
    {
      "cell_type": "code",
      "source": [
        "type(sentence) # raw data is trnsformes into list"
      ],
      "metadata": {
        "colab": {
          "base_uri": "https://localhost:8080/"
        },
        "id": "NWPrX2uZXMhe",
        "outputId": "fd6bd33f-1d35-45e2-da0e-0e83c7734643"
      },
      "execution_count": 6,
      "outputs": [
        {
          "output_type": "execute_result",
          "data": {
            "text/plain": [
              "list"
            ]
          },
          "metadata": {},
          "execution_count": 6
        }
      ]
    },
    {
      "cell_type": "code",
      "source": [
        "print(sentence)"
      ],
      "metadata": {
        "colab": {
          "base_uri": "https://localhost:8080/"
        },
        "id": "rAxwFF5IXMW_",
        "outputId": "7b81ab23-8977-4f24-89dc-763a6466519a"
      },
      "execution_count": 7,
      "outputs": [
        {
          "output_type": "stream",
          "name": "stdout",
          "text": [
            "[' Steven Paul Jobs (February 24, 1955 – October 5, 2011) was an American businessman, inventor, and investor best known for co-founding the technology company Apple Inc. Jobs was also the founder of NeXT and chairman and majority shareholder of Pixar.', 'He was a pioneer of the personal computer revolution of the 1970s and 1980s, along with his early business partner and fellow Apple co-founder Steve Wozniak.', 'Jobs was born in San Francisco in 1955 and adopted shortly afterwards.', 'He attended Reed College in 1972 before withdrawing that same year.', 'In 1974, he traveled through India, seeking enlightenment before later studying Zen Buddhism.', \"He and Wozniak co-founded Apple in 1976 to further develop and sell Wozniak's Apple I personal computer.\", 'Together, the duo gained fame and wealth a year later with production and sale of the Apple II, one of the first highly successful mass-produced microcomputers.', 'Jobs saw the commercial potential of the Xerox Alto in 1979, which was mouse-driven and had a graphical user interface (GUI).', 'This led to the development of the unsuccessful Apple Lisa in 1983, followed by the breakthrough Macintosh in 1984, the first mass-produced computer with a GUI.', 'The Macintosh launched the desktop publishing industry in 1985 (for example, the Aldus Pagemaker) with the addition of the Apple LaserWriter, the first laser printer to feature vector graphics and PostScript.', \"In 1985, Jobs departed Apple after a long power struggle with the company's board and its then-CEO, John Sculley.\", 'That same year, Jobs took some Apple employees with him to found NeXT, a computer platform development company that specialized in computers for higher-education and business markets, serving as its CEO.', 'In 1986, he helped develop the visual effects industry by funding the computer graphics division of Lucasfilm that eventually spun off independently as Pixar, which produced the first 3D computer-animated feature film Toy Story (1995) and became a leading animation studio, producing 28 films since.', \"In 1997, Jobs returned to Apple as CEO after the company's acquisition of NeXT.\", 'He was largely responsible for reviving Apple, which was on the verge of bankruptcy.', 'He worked closely with British designer Jony Ive to develop a line of products and services that had larger cultural ramifications, beginning with the \"Think different\" advertising campaign, and leading to the iMac, iTunes, Mac OS X, Apple Store, iPod, iTunes Store, iPhone, App Store, and iPad.', 'Jobs was also a board member at Gap Inc. from 1999 to 2002.', '[3] In 2003, Jobs was diagnosed with a pancreatic neuroendocrine tumor.', 'He died of tumor-related respiratory arrest in 2011; in 2022, he was posthumously awarded the Presidential Medal of Freedom.', 'Since his death, he has won 141 patents; Jobs holds over 450 patents in total.', '[4]']\n"
          ]
        }
      ]
    },
    {
      "cell_type": "code",
      "source": [
        "#steming\n",
        "\n",
        "stemmer = PorterStemmer()\n",
        "stemmer.stem(\"eating\")\n"
      ],
      "metadata": {
        "colab": {
          "base_uri": "https://localhost:8080/",
          "height": 36
        },
        "id": "FkxIf8OAXzvT",
        "outputId": "1f42b2c1-660f-46e0-dabf-d9e99c2ec3ed"
      },
      "execution_count": 8,
      "outputs": [
        {
          "output_type": "execute_result",
          "data": {
            "text/plain": [
              "'eat'"
            ],
            "application/vnd.google.colaboratory.intrinsic+json": {
              "type": "string"
            }
          },
          "metadata": {},
          "execution_count": 8
        }
      ]
    },
    {
      "cell_type": "code",
      "source": [
        "#lemmitatzion\n",
        "\n",
        "nltk.download('wordnet')"
      ],
      "metadata": {
        "colab": {
          "base_uri": "https://localhost:8080/"
        },
        "id": "E4iwAHacYMDr",
        "outputId": "94950e2d-f76f-4946-96df-5f5ba4571403"
      },
      "execution_count": 9,
      "outputs": [
        {
          "output_type": "stream",
          "name": "stderr",
          "text": [
            "[nltk_data] Downloading package wordnet to /root/nltk_data...\n"
          ]
        },
        {
          "output_type": "execute_result",
          "data": {
            "text/plain": [
              "True"
            ]
          },
          "metadata": {},
          "execution_count": 9
        }
      ]
    },
    {
      "cell_type": "code",
      "source": [
        "from nltk.stem import WordNetLemmatizer\n",
        "Lemmatizer = WordNetLemmatizer()\n",
        "Lemmatizer.lemmatize(\"goes\")"
      ],
      "metadata": {
        "colab": {
          "base_uri": "https://localhost:8080/",
          "height": 36
        },
        "id": "Z3fGsgWuYhzw",
        "outputId": "884968f6-52d5-4e71-b71e-e617b02cd26a"
      },
      "execution_count": 10,
      "outputs": [
        {
          "output_type": "execute_result",
          "data": {
            "text/plain": [
              "'go'"
            ],
            "application/vnd.google.colaboratory.intrinsic+json": {
              "type": "string"
            }
          },
          "metadata": {},
          "execution_count": 10
        }
      ]
    },
    {
      "cell_type": "markdown",
      "source": [
        "PreProcess the text by removing non alpahbatic charatcer and make them to lower case"
      ],
      "metadata": {
        "id": "9nudohhgY6Ig"
      }
    },
    {
      "cell_type": "code",
      "source": [
        "import re"
      ],
      "metadata": {
        "id": "dIQq0wLTYmBc"
      },
      "execution_count": 11,
      "outputs": []
    },
    {
      "cell_type": "code",
      "source": [
        "corpus = []\n",
        "for i in range(len(sentence)):\n",
        "  review = re.sub('[^a-zA-Z]',' ',sentence[i]) # matched charateer not in sentcte is replaced with a space\n",
        "  review = review.lower()\n",
        "  corpus.append(review)\n",
        "corpus"
      ],
      "metadata": {
        "colab": {
          "base_uri": "https://localhost:8080/"
        },
        "id": "iCm2nDoVZV9m",
        "outputId": "a759f5e8-96c7-4161-9009-166c8c3deabe"
      },
      "execution_count": 12,
      "outputs": [
        {
          "output_type": "execute_result",
          "data": {
            "text/plain": [
              "[' steven paul jobs  february            october          was an american businessman  inventor  and investor best known for co founding the technology company apple inc  jobs was also the founder of next and chairman and majority shareholder of pixar ',\n",
              " 'he was a pioneer of the personal computer revolution of the     s and     s  along with his early business partner and fellow apple co founder steve wozniak ',\n",
              " 'jobs was born in san francisco in      and adopted shortly afterwards ',\n",
              " 'he attended reed college in      before withdrawing that same year ',\n",
              " 'in       he traveled through india  seeking enlightenment before later studying zen buddhism ',\n",
              " 'he and wozniak co founded apple in      to further develop and sell wozniak s apple i personal computer ',\n",
              " 'together  the duo gained fame and wealth a year later with production and sale of the apple ii  one of the first highly successful mass produced microcomputers ',\n",
              " 'jobs saw the commercial potential of the xerox alto in       which was mouse driven and had a graphical user interface  gui  ',\n",
              " 'this led to the development of the unsuccessful apple lisa in       followed by the breakthrough macintosh in       the first mass produced computer with a gui ',\n",
              " 'the macintosh launched the desktop publishing industry in       for example  the aldus pagemaker  with the addition of the apple laserwriter  the first laser printer to feature vector graphics and postscript ',\n",
              " 'in       jobs departed apple after a long power struggle with the company s board and its then ceo  john sculley ',\n",
              " 'that same year  jobs took some apple employees with him to found next  a computer platform development company that specialized in computers for higher education and business markets  serving as its ceo ',\n",
              " 'in       he helped develop the visual effects industry by funding the computer graphics division of lucasfilm that eventually spun off independently as pixar  which produced the first  d computer animated feature film toy story        and became a leading animation studio  producing    films since ',\n",
              " 'in       jobs returned to apple as ceo after the company s acquisition of next ',\n",
              " 'he was largely responsible for reviving apple  which was on the verge of bankruptcy ',\n",
              " 'he worked closely with british designer jony ive to develop a line of products and services that had larger cultural ramifications  beginning with the  think different  advertising campaign  and leading to the imac  itunes  mac os x  apple store  ipod  itunes store  iphone  app store  and ipad ',\n",
              " 'jobs was also a board member at gap inc  from      to      ',\n",
              " '    in       jobs was diagnosed with a pancreatic neuroendocrine tumor ',\n",
              " 'he died of tumor related respiratory arrest in       in       he was posthumously awarded the presidential medal of freedom ',\n",
              " 'since his death  he has won     patents  jobs holds over     patents in total ',\n",
              " '   ']"
            ]
          },
          "metadata": {},
          "execution_count": 12
        }
      ]
    },
    {
      "cell_type": "code",
      "source": [
        "nltk.download('stopwords')\n",
        "for i in corpus:\n",
        "  word = nltk.word_tokenize(i)\n",
        "  for word in word:\n",
        "    if word not in set(stopwords.words('english')):\n",
        "      print(word)"
      ],
      "metadata": {
        "colab": {
          "base_uri": "https://localhost:8080/"
        },
        "id": "8qXpAdB-Zx39",
        "outputId": "0b734604-3d94-4fd6-8de7-ad322f34c6c0"
      },
      "execution_count": 13,
      "outputs": [
        {
          "output_type": "stream",
          "name": "stderr",
          "text": [
            "[nltk_data] Downloading package stopwords to /root/nltk_data...\n",
            "[nltk_data]   Unzipping corpora/stopwords.zip.\n"
          ]
        },
        {
          "output_type": "stream",
          "name": "stdout",
          "text": [
            "steven\n",
            "paul\n",
            "jobs\n",
            "february\n",
            "october\n",
            "american\n",
            "businessman\n",
            "inventor\n",
            "investor\n",
            "best\n",
            "known\n",
            "co\n",
            "founding\n",
            "technology\n",
            "company\n",
            "apple\n",
            "inc\n",
            "jobs\n",
            "also\n",
            "founder\n",
            "next\n",
            "chairman\n",
            "majority\n",
            "shareholder\n",
            "pixar\n",
            "pioneer\n",
            "personal\n",
            "computer\n",
            "revolution\n",
            "along\n",
            "early\n",
            "business\n",
            "partner\n",
            "fellow\n",
            "apple\n",
            "co\n",
            "founder\n",
            "steve\n",
            "wozniak\n",
            "jobs\n",
            "born\n",
            "san\n",
            "francisco\n",
            "adopted\n",
            "shortly\n",
            "afterwards\n",
            "attended\n",
            "reed\n",
            "college\n",
            "withdrawing\n",
            "year\n",
            "traveled\n",
            "india\n",
            "seeking\n",
            "enlightenment\n",
            "later\n",
            "studying\n",
            "zen\n",
            "buddhism\n",
            "wozniak\n",
            "co\n",
            "founded\n",
            "apple\n",
            "develop\n",
            "sell\n",
            "wozniak\n",
            "apple\n",
            "personal\n",
            "computer\n",
            "together\n",
            "duo\n",
            "gained\n",
            "fame\n",
            "wealth\n",
            "year\n",
            "later\n",
            "production\n",
            "sale\n",
            "apple\n",
            "ii\n",
            "one\n",
            "first\n",
            "highly\n",
            "successful\n",
            "mass\n",
            "produced\n",
            "microcomputers\n",
            "jobs\n",
            "saw\n",
            "commercial\n",
            "potential\n",
            "xerox\n",
            "alto\n",
            "mouse\n",
            "driven\n",
            "graphical\n",
            "user\n",
            "interface\n",
            "gui\n",
            "led\n",
            "development\n",
            "unsuccessful\n",
            "apple\n",
            "lisa\n",
            "followed\n",
            "breakthrough\n",
            "macintosh\n",
            "first\n",
            "mass\n",
            "produced\n",
            "computer\n",
            "gui\n",
            "macintosh\n",
            "launched\n",
            "desktop\n",
            "publishing\n",
            "industry\n",
            "example\n",
            "aldus\n",
            "pagemaker\n",
            "addition\n",
            "apple\n",
            "laserwriter\n",
            "first\n",
            "laser\n",
            "printer\n",
            "feature\n",
            "vector\n",
            "graphics\n",
            "postscript\n",
            "jobs\n",
            "departed\n",
            "apple\n",
            "long\n",
            "power\n",
            "struggle\n",
            "company\n",
            "board\n",
            "ceo\n",
            "john\n",
            "sculley\n",
            "year\n",
            "jobs\n",
            "took\n",
            "apple\n",
            "employees\n",
            "found\n",
            "next\n",
            "computer\n",
            "platform\n",
            "development\n",
            "company\n",
            "specialized\n",
            "computers\n",
            "higher\n",
            "education\n",
            "business\n",
            "markets\n",
            "serving\n",
            "ceo\n",
            "helped\n",
            "develop\n",
            "visual\n",
            "effects\n",
            "industry\n",
            "funding\n",
            "computer\n",
            "graphics\n",
            "division\n",
            "lucasfilm\n",
            "eventually\n",
            "spun\n",
            "independently\n",
            "pixar\n",
            "produced\n",
            "first\n",
            "computer\n",
            "animated\n",
            "feature\n",
            "film\n",
            "toy\n",
            "story\n",
            "became\n",
            "leading\n",
            "animation\n",
            "studio\n",
            "producing\n",
            "films\n",
            "since\n",
            "jobs\n",
            "returned\n",
            "apple\n",
            "ceo\n",
            "company\n",
            "acquisition\n",
            "next\n",
            "largely\n",
            "responsible\n",
            "reviving\n",
            "apple\n",
            "verge\n",
            "bankruptcy\n",
            "worked\n",
            "closely\n",
            "british\n",
            "designer\n",
            "jony\n",
            "ive\n",
            "develop\n",
            "line\n",
            "products\n",
            "services\n",
            "larger\n",
            "cultural\n",
            "ramifications\n",
            "beginning\n",
            "think\n",
            "different\n",
            "advertising\n",
            "campaign\n",
            "leading\n",
            "imac\n",
            "itunes\n",
            "mac\n",
            "os\n",
            "x\n",
            "apple\n",
            "store\n",
            "ipod\n",
            "itunes\n",
            "store\n",
            "iphone\n",
            "app\n",
            "store\n",
            "ipad\n",
            "jobs\n",
            "also\n",
            "board\n",
            "member\n",
            "gap\n",
            "inc\n",
            "jobs\n",
            "diagnosed\n",
            "pancreatic\n",
            "neuroendocrine\n",
            "tumor\n",
            "died\n",
            "tumor\n",
            "related\n",
            "respiratory\n",
            "arrest\n",
            "posthumously\n",
            "awarded\n",
            "presidential\n",
            "medal\n",
            "freedom\n",
            "since\n",
            "death\n",
            "patents\n",
            "jobs\n",
            "holds\n",
            "patents\n",
            "total\n"
          ]
        }
      ]
    },
    {
      "cell_type": "code",
      "source": [
        "from sklearn.feature_extraction.text import CountVectorizer\n",
        "cv = CountVectorizer()\n",
        "x = cv.fit_transform(corpus)\n",
        "cv.vocabulary_"
      ],
      "metadata": {
        "colab": {
          "base_uri": "https://localhost:8080/"
        },
        "id": "Dg0UZs4zakrK",
        "outputId": "4aac0a3c-e427-4ae2-d2af-c973d9b8fad8"
      },
      "execution_count": 14,
      "outputs": [
        {
          "output_type": "execute_result",
          "data": {
            "text/plain": [
              "{'steven': 191,\n",
              " 'paul': 151,\n",
              " 'jobs': 113,\n",
              " 'february': 67,\n",
              " 'october': 140,\n",
              " 'was': 217,\n",
              " 'an': 11,\n",
              " 'american': 10,\n",
              " 'businessman': 33,\n",
              " 'inventor': 105,\n",
              " 'and': 12,\n",
              " 'investor': 106,\n",
              " 'best': 26,\n",
              " 'known': 116,\n",
              " 'for': 73,\n",
              " 'co': 39,\n",
              " 'founding': 77,\n",
              " 'the': 200,\n",
              " 'technology': 198,\n",
              " 'company': 42,\n",
              " 'apple': 16,\n",
              " 'inc': 100,\n",
              " 'also': 8,\n",
              " 'founder': 76,\n",
              " 'of': 141,\n",
              " 'next': 139,\n",
              " 'chairman': 37,\n",
              " 'majority': 131,\n",
              " 'shareholder': 184,\n",
              " 'pixar': 154,\n",
              " 'he': 90,\n",
              " 'pioneer': 153,\n",
              " 'personal': 152,\n",
              " 'computer': 43,\n",
              " 'revolution': 174,\n",
              " 'along': 7,\n",
              " 'with': 220,\n",
              " 'his': 95,\n",
              " 'early': 58,\n",
              " 'business': 32,\n",
              " 'partner': 149,\n",
              " 'fellow': 68,\n",
              " 'steve': 190,\n",
              " 'wozniak': 224,\n",
              " 'born': 28,\n",
              " 'in': 99,\n",
              " 'san': 177,\n",
              " 'francisco': 78,\n",
              " 'adopted': 2,\n",
              " 'shortly': 185,\n",
              " 'afterwards': 5,\n",
              " 'attended': 20,\n",
              " 'reed': 168,\n",
              " 'college': 40,\n",
              " 'before': 24,\n",
              " 'withdrawing': 221,\n",
              " 'that': 199,\n",
              " 'same': 176,\n",
              " 'year': 226,\n",
              " 'traveled': 210,\n",
              " 'through': 204,\n",
              " 'india': 102,\n",
              " 'seeking': 180,\n",
              " 'enlightenment': 62,\n",
              " 'later': 121,\n",
              " 'studying': 196,\n",
              " 'zen': 227,\n",
              " 'buddhism': 31,\n",
              " 'founded': 75,\n",
              " 'to': 205,\n",
              " 'further': 82,\n",
              " 'develop': 50,\n",
              " 'sell': 181,\n",
              " 'together': 206,\n",
              " 'duo': 57,\n",
              " 'gained': 83,\n",
              " 'fame': 65,\n",
              " 'wealth': 218,\n",
              " 'production': 164,\n",
              " 'sale': 175,\n",
              " 'ii': 97,\n",
              " 'one': 144,\n",
              " 'first': 71,\n",
              " 'highly': 93,\n",
              " 'successful': 197,\n",
              " 'mass': 133,\n",
              " 'produced': 162,\n",
              " 'microcomputers': 136,\n",
              " 'saw': 178,\n",
              " 'commercial': 41,\n",
              " 'potential': 158,\n",
              " 'xerox': 225,\n",
              " 'alto': 9,\n",
              " 'which': 219,\n",
              " 'mouse': 137,\n",
              " 'driven': 56,\n",
              " 'had': 88,\n",
              " 'graphical': 85,\n",
              " 'user': 213,\n",
              " 'interface': 104,\n",
              " 'gui': 87,\n",
              " 'this': 203,\n",
              " 'led': 124,\n",
              " 'development': 51,\n",
              " 'unsuccessful': 212,\n",
              " 'lisa': 126,\n",
              " 'followed': 72,\n",
              " 'by': 34,\n",
              " 'breakthrough': 29,\n",
              " 'macintosh': 130,\n",
              " 'launched': 122,\n",
              " 'desktop': 49,\n",
              " 'publishing': 166,\n",
              " 'industry': 103,\n",
              " 'example': 64,\n",
              " 'aldus': 6,\n",
              " 'pagemaker': 147,\n",
              " 'addition': 1,\n",
              " 'laserwriter': 120,\n",
              " 'laser': 119,\n",
              " 'printer': 161,\n",
              " 'feature': 66,\n",
              " 'vector': 214,\n",
              " 'graphics': 86,\n",
              " 'postscript': 157,\n",
              " 'departed': 47,\n",
              " 'after': 4,\n",
              " 'long': 127,\n",
              " 'power': 159,\n",
              " 'struggle': 194,\n",
              " 'board': 27,\n",
              " 'its': 110,\n",
              " 'then': 201,\n",
              " 'ceo': 36,\n",
              " 'john': 114,\n",
              " 'sculley': 179,\n",
              " 'took': 207,\n",
              " 'some': 187,\n",
              " 'employees': 61,\n",
              " 'him': 94,\n",
              " 'found': 74,\n",
              " 'platform': 155,\n",
              " 'specialized': 188,\n",
              " 'computers': 44,\n",
              " 'higher': 92,\n",
              " 'education': 59,\n",
              " 'markets': 132,\n",
              " 'serving': 183,\n",
              " 'as': 18,\n",
              " 'helped': 91,\n",
              " 'visual': 216,\n",
              " 'effects': 60,\n",
              " 'funding': 81,\n",
              " 'division': 55,\n",
              " 'lucasfilm': 128,\n",
              " 'eventually': 63,\n",
              " 'spun': 189,\n",
              " 'off': 142,\n",
              " 'independently': 101,\n",
              " 'animated': 13,\n",
              " 'film': 69,\n",
              " 'toy': 209,\n",
              " 'story': 193,\n",
              " 'became': 23,\n",
              " 'leading': 123,\n",
              " 'animation': 14,\n",
              " 'studio': 195,\n",
              " 'producing': 163,\n",
              " 'films': 70,\n",
              " 'since': 186,\n",
              " 'returned': 172,\n",
              " 'acquisition': 0,\n",
              " 'largely': 117,\n",
              " 'responsible': 171,\n",
              " 'reviving': 173,\n",
              " 'on': 143,\n",
              " 'verge': 215,\n",
              " 'bankruptcy': 22,\n",
              " 'worked': 223,\n",
              " 'closely': 38,\n",
              " 'british': 30,\n",
              " 'designer': 48,\n",
              " 'jony': 115,\n",
              " 'ive': 112,\n",
              " 'line': 125,\n",
              " 'products': 165,\n",
              " 'services': 182,\n",
              " 'larger': 118,\n",
              " 'cultural': 45,\n",
              " 'ramifications': 167,\n",
              " 'beginning': 25,\n",
              " 'think': 202,\n",
              " 'different': 54,\n",
              " 'advertising': 3,\n",
              " 'campaign': 35,\n",
              " 'imac': 98,\n",
              " 'itunes': 111,\n",
              " 'mac': 129,\n",
              " 'os': 145,\n",
              " 'store': 192,\n",
              " 'ipod': 109,\n",
              " 'iphone': 108,\n",
              " 'app': 15,\n",
              " 'ipad': 107,\n",
              " 'member': 135,\n",
              " 'at': 19,\n",
              " 'gap': 84,\n",
              " 'from': 80,\n",
              " 'diagnosed': 52,\n",
              " 'pancreatic': 148,\n",
              " 'neuroendocrine': 138,\n",
              " 'tumor': 211,\n",
              " 'died': 53,\n",
              " 'related': 169,\n",
              " 'respiratory': 170,\n",
              " 'arrest': 17,\n",
              " 'posthumously': 156,\n",
              " 'awarded': 21,\n",
              " 'presidential': 160,\n",
              " 'medal': 134,\n",
              " 'freedom': 79,\n",
              " 'death': 46,\n",
              " 'has': 89,\n",
              " 'won': 222,\n",
              " 'patents': 150,\n",
              " 'holds': 96,\n",
              " 'over': 146,\n",
              " 'total': 208}"
            ]
          },
          "metadata": {},
          "execution_count": 14
        }
      ]
    },
    {
      "cell_type": "markdown",
      "source": [
        "TF and IDF"
      ],
      "metadata": {
        "id": "HfeHEPewjdB1"
      }
    },
    {
      "cell_type": "code",
      "source": [
        "from sklearn.feature_extraction.text import TfidfVectorizer\n",
        "Corpus = [\n",
        "    \"This is the first document.\",\n",
        "    \"This document is the second document.\",\n",
        "    \"And this is the third one.\",\n",
        "    \"Is this the first document\"\n",
        "]\n",
        "Tfidf=TfidfVectorizer()\n",
        "x=Tfidf.fit_transform(Corpus)\n",
        "print(Tfidf.vocabulary_)\n",
        "print(x)\n"
      ],
      "metadata": {
        "colab": {
          "base_uri": "https://localhost:8080/"
        },
        "id": "atTGtwsOji6T",
        "outputId": "c38125de-12bd-4e5c-a283-d78234129538"
      },
      "execution_count": 15,
      "outputs": [
        {
          "output_type": "stream",
          "name": "stdout",
          "text": [
            "{'this': 8, 'is': 3, 'the': 6, 'first': 2, 'document': 1, 'second': 5, 'and': 0, 'third': 7, 'one': 4}\n",
            "  (0, 1)\t0.46979138557992045\n",
            "  (0, 2)\t0.5802858236844359\n",
            "  (0, 6)\t0.38408524091481483\n",
            "  (0, 3)\t0.38408524091481483\n",
            "  (0, 8)\t0.38408524091481483\n",
            "  (1, 5)\t0.5386476208856763\n",
            "  (1, 1)\t0.6876235979836938\n",
            "  (1, 6)\t0.281088674033753\n",
            "  (1, 3)\t0.281088674033753\n",
            "  (1, 8)\t0.281088674033753\n",
            "  (2, 4)\t0.511848512707169\n",
            "  (2, 7)\t0.511848512707169\n",
            "  (2, 0)\t0.511848512707169\n",
            "  (2, 6)\t0.267103787642168\n",
            "  (2, 3)\t0.267103787642168\n",
            "  (2, 8)\t0.267103787642168\n",
            "  (3, 1)\t0.46979138557992045\n",
            "  (3, 2)\t0.5802858236844359\n",
            "  (3, 6)\t0.38408524091481483\n",
            "  (3, 3)\t0.38408524091481483\n",
            "  (3, 8)\t0.38408524091481483\n"
          ]
        }
      ]
    },
    {
      "cell_type": "code",
      "source": [
        "all_feature_names = Tfidf.get_feature_names_out()\n",
        "for word in all_feature_names:\n",
        "   index = Tfidf.vocabulary_.get(word)\n",
        "   idf_score = Tfidf.idf_[index]\n",
        "   print(f\"Word: {word}, IDF Score: {idf_score}\")\n",
        "\n",
        "   #lower the score common accros corpus  , higher idf score less common in corpus"
      ],
      "metadata": {
        "colab": {
          "base_uri": "https://localhost:8080/"
        },
        "id": "BIAuaUeqkFLm",
        "outputId": "8cda192d-3a44-4721-d383-ebd71a50fde2"
      },
      "execution_count": 16,
      "outputs": [
        {
          "output_type": "stream",
          "name": "stdout",
          "text": [
            "Word: and, IDF Score: 1.916290731874155\n",
            "Word: document, IDF Score: 1.2231435513142097\n",
            "Word: first, IDF Score: 1.5108256237659907\n",
            "Word: is, IDF Score: 1.0\n",
            "Word: one, IDF Score: 1.916290731874155\n",
            "Word: second, IDF Score: 1.916290731874155\n",
            "Word: the, IDF Score: 1.0\n",
            "Word: third, IDF Score: 1.916290731874155\n",
            "Word: this, IDF Score: 1.0\n"
          ]
        }
      ]
    },
    {
      "cell_type": "code",
      "source": [
        "import pandas as pd"
      ],
      "metadata": {
        "id": "Y-pi0HgXP0O-"
      },
      "execution_count": 17,
      "outputs": []
    },
    {
      "cell_type": "markdown",
      "source": [],
      "metadata": {
        "id": "qJ02ux8kRl2G"
      }
    },
    {
      "cell_type": "code",
      "source": [
        "df = pd.read_csv ('/spam.csv')"
      ],
      "metadata": {
        "colab": {
          "base_uri": "https://localhost:8080/",
          "height": 480
        },
        "id": "EKsBmMymP3ec",
        "outputId": "6e2b794a-feb8-47cd-c26e-703995fe9cfa"
      },
      "execution_count": 26,
      "outputs": [
        {
          "output_type": "error",
          "ename": "ParserError",
          "evalue": "Error tokenizing data. C error: Expected 2 fields in line 12, saw 4\n",
          "traceback": [
            "\u001b[0;31m---------------------------------------------------------------------------\u001b[0m",
            "\u001b[0;31mParserError\u001b[0m                               Traceback (most recent call last)",
            "\u001b[0;32m<ipython-input-26-db08afd711da>\u001b[0m in \u001b[0;36m<cell line: 1>\u001b[0;34m()\u001b[0m\n\u001b[0;32m----> 1\u001b[0;31m \u001b[0mdf\u001b[0m \u001b[0;34m=\u001b[0m \u001b[0mpd\u001b[0m\u001b[0;34m.\u001b[0m\u001b[0mread_csv\u001b[0m \u001b[0;34m(\u001b[0m\u001b[0;34m'/spam.csv'\u001b[0m\u001b[0;34m)\u001b[0m\u001b[0;34m\u001b[0m\u001b[0;34m\u001b[0m\u001b[0m\n\u001b[0m",
            "\u001b[0;32m/usr/local/lib/python3.10/dist-packages/pandas/io/parsers/readers.py\u001b[0m in \u001b[0;36mread_csv\u001b[0;34m(filepath_or_buffer, sep, delimiter, header, names, index_col, usecols, dtype, engine, converters, true_values, false_values, skipinitialspace, skiprows, skipfooter, nrows, na_values, keep_default_na, na_filter, verbose, skip_blank_lines, parse_dates, infer_datetime_format, keep_date_col, date_parser, date_format, dayfirst, cache_dates, iterator, chunksize, compression, thousands, decimal, lineterminator, quotechar, quoting, doublequote, escapechar, comment, encoding, encoding_errors, dialect, on_bad_lines, delim_whitespace, low_memory, memory_map, float_precision, storage_options, dtype_backend)\u001b[0m\n\u001b[1;32m    946\u001b[0m     \u001b[0mkwds\u001b[0m\u001b[0;34m.\u001b[0m\u001b[0mupdate\u001b[0m\u001b[0;34m(\u001b[0m\u001b[0mkwds_defaults\u001b[0m\u001b[0;34m)\u001b[0m\u001b[0;34m\u001b[0m\u001b[0;34m\u001b[0m\u001b[0m\n\u001b[1;32m    947\u001b[0m \u001b[0;34m\u001b[0m\u001b[0m\n\u001b[0;32m--> 948\u001b[0;31m     \u001b[0;32mreturn\u001b[0m \u001b[0m_read\u001b[0m\u001b[0;34m(\u001b[0m\u001b[0mfilepath_or_buffer\u001b[0m\u001b[0;34m,\u001b[0m \u001b[0mkwds\u001b[0m\u001b[0;34m)\u001b[0m\u001b[0;34m\u001b[0m\u001b[0;34m\u001b[0m\u001b[0m\n\u001b[0m\u001b[1;32m    949\u001b[0m \u001b[0;34m\u001b[0m\u001b[0m\n\u001b[1;32m    950\u001b[0m \u001b[0;34m\u001b[0m\u001b[0m\n",
            "\u001b[0;32m/usr/local/lib/python3.10/dist-packages/pandas/io/parsers/readers.py\u001b[0m in \u001b[0;36m_read\u001b[0;34m(filepath_or_buffer, kwds)\u001b[0m\n\u001b[1;32m    615\u001b[0m \u001b[0;34m\u001b[0m\u001b[0m\n\u001b[1;32m    616\u001b[0m     \u001b[0;32mwith\u001b[0m \u001b[0mparser\u001b[0m\u001b[0;34m:\u001b[0m\u001b[0;34m\u001b[0m\u001b[0;34m\u001b[0m\u001b[0m\n\u001b[0;32m--> 617\u001b[0;31m         \u001b[0;32mreturn\u001b[0m \u001b[0mparser\u001b[0m\u001b[0;34m.\u001b[0m\u001b[0mread\u001b[0m\u001b[0;34m(\u001b[0m\u001b[0mnrows\u001b[0m\u001b[0;34m)\u001b[0m\u001b[0;34m\u001b[0m\u001b[0;34m\u001b[0m\u001b[0m\n\u001b[0m\u001b[1;32m    618\u001b[0m \u001b[0;34m\u001b[0m\u001b[0m\n\u001b[1;32m    619\u001b[0m \u001b[0;34m\u001b[0m\u001b[0m\n",
            "\u001b[0;32m/usr/local/lib/python3.10/dist-packages/pandas/io/parsers/readers.py\u001b[0m in \u001b[0;36mread\u001b[0;34m(self, nrows)\u001b[0m\n\u001b[1;32m   1746\u001b[0m                     \u001b[0mcolumns\u001b[0m\u001b[0;34m,\u001b[0m\u001b[0;34m\u001b[0m\u001b[0;34m\u001b[0m\u001b[0m\n\u001b[1;32m   1747\u001b[0m                     \u001b[0mcol_dict\u001b[0m\u001b[0;34m,\u001b[0m\u001b[0;34m\u001b[0m\u001b[0;34m\u001b[0m\u001b[0m\n\u001b[0;32m-> 1748\u001b[0;31m                 \u001b[0;34m)\u001b[0m \u001b[0;34m=\u001b[0m \u001b[0mself\u001b[0m\u001b[0;34m.\u001b[0m\u001b[0m_engine\u001b[0m\u001b[0;34m.\u001b[0m\u001b[0mread\u001b[0m\u001b[0;34m(\u001b[0m  \u001b[0;31m# type: ignore[attr-defined]\u001b[0m\u001b[0;34m\u001b[0m\u001b[0;34m\u001b[0m\u001b[0m\n\u001b[0m\u001b[1;32m   1749\u001b[0m                     \u001b[0mnrows\u001b[0m\u001b[0;34m\u001b[0m\u001b[0;34m\u001b[0m\u001b[0m\n\u001b[1;32m   1750\u001b[0m                 )\n",
            "\u001b[0;32m/usr/local/lib/python3.10/dist-packages/pandas/io/parsers/c_parser_wrapper.py\u001b[0m in \u001b[0;36mread\u001b[0;34m(self, nrows)\u001b[0m\n\u001b[1;32m    232\u001b[0m         \u001b[0;32mtry\u001b[0m\u001b[0;34m:\u001b[0m\u001b[0;34m\u001b[0m\u001b[0;34m\u001b[0m\u001b[0m\n\u001b[1;32m    233\u001b[0m             \u001b[0;32mif\u001b[0m \u001b[0mself\u001b[0m\u001b[0;34m.\u001b[0m\u001b[0mlow_memory\u001b[0m\u001b[0;34m:\u001b[0m\u001b[0;34m\u001b[0m\u001b[0;34m\u001b[0m\u001b[0m\n\u001b[0;32m--> 234\u001b[0;31m                 \u001b[0mchunks\u001b[0m \u001b[0;34m=\u001b[0m \u001b[0mself\u001b[0m\u001b[0;34m.\u001b[0m\u001b[0m_reader\u001b[0m\u001b[0;34m.\u001b[0m\u001b[0mread_low_memory\u001b[0m\u001b[0;34m(\u001b[0m\u001b[0mnrows\u001b[0m\u001b[0;34m)\u001b[0m\u001b[0;34m\u001b[0m\u001b[0;34m\u001b[0m\u001b[0m\n\u001b[0m\u001b[1;32m    235\u001b[0m                 \u001b[0;31m# destructive to chunks\u001b[0m\u001b[0;34m\u001b[0m\u001b[0;34m\u001b[0m\u001b[0m\n\u001b[1;32m    236\u001b[0m                 \u001b[0mdata\u001b[0m \u001b[0;34m=\u001b[0m \u001b[0m_concatenate_chunks\u001b[0m\u001b[0;34m(\u001b[0m\u001b[0mchunks\u001b[0m\u001b[0;34m)\u001b[0m\u001b[0;34m\u001b[0m\u001b[0;34m\u001b[0m\u001b[0m\n",
            "\u001b[0;32mparsers.pyx\u001b[0m in \u001b[0;36mpandas._libs.parsers.TextReader.read_low_memory\u001b[0;34m()\u001b[0m\n",
            "\u001b[0;32mparsers.pyx\u001b[0m in \u001b[0;36mpandas._libs.parsers.TextReader._read_rows\u001b[0;34m()\u001b[0m\n",
            "\u001b[0;32mparsers.pyx\u001b[0m in \u001b[0;36mpandas._libs.parsers.TextReader._tokenize_rows\u001b[0;34m()\u001b[0m\n",
            "\u001b[0;32mparsers.pyx\u001b[0m in \u001b[0;36mpandas._libs.parsers.TextReader._check_tokenize_status\u001b[0;34m()\u001b[0m\n",
            "\u001b[0;32mparsers.pyx\u001b[0m in \u001b[0;36mpandas._libs.parsers.raise_parser_error\u001b[0;34m()\u001b[0m\n",
            "\u001b[0;31mParserError\u001b[0m: Error tokenizing data. C error: Expected 2 fields in line 12, saw 4\n"
          ]
        }
      ]
    },
    {
      "cell_type": "code",
      "source": [],
      "metadata": {
        "id": "VIweo2QMQiNb"
      },
      "execution_count": null,
      "outputs": []
    }
  ]
}